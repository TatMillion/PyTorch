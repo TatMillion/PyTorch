{
 "cells": [
  {
   "cell_type": "markdown",
   "id": "aec9caa8",
   "metadata": {},
   "source": [
    "# Урок 7. Рекурентные сети для обработки последовательностей\n",
    "Попробуйте обучить нейронную сеть GRU/LSTM для предсказания сентимента сообщений с твитера на примере https://www.kaggle.com/datasets/arkhoshghalb/twitter-sentiment-analysis-hatred-speech\n",
    "\n",
    "Опишите, какой результат вы получили? Что помогло вам улучшить ее точность?"
   ]
  },
  {
   "cell_type": "code",
   "execution_count": 1,
   "id": "cdb2d40a-c5e0-4c4f-b69a-873a8ac41776",
   "metadata": {},
   "outputs": [
    {
     "name": "stdout",
     "output_type": "stream",
     "text": [
      "Requirement already satisfied: torchmetrics in c:\\users\\orlov\\anaconda3\\lib\\site-packages (0.11.4)\n",
      "Requirement already satisfied: torch>=1.8.1 in c:\\users\\orlov\\anaconda3\\lib\\site-packages (from torchmetrics) (1.12.1)\n",
      "Requirement already satisfied: packaging in c:\\users\\orlov\\anaconda3\\lib\\site-packages (from torchmetrics) (22.0)\n",
      "Requirement already satisfied: numpy>=1.17.2 in c:\\users\\orlov\\anaconda3\\lib\\site-packages (from torchmetrics) (1.23.5)\n",
      "Requirement already satisfied: typing_extensions in c:\\users\\orlov\\anaconda3\\lib\\site-packages (from torch>=1.8.1->torchmetrics) (4.4.0)\n",
      "Requirement already satisfied: stop_words in c:\\users\\orlov\\anaconda3\\lib\\site-packages (2018.7.23)\n",
      "Requirement already satisfied: nltk in c:\\users\\orlov\\anaconda3\\lib\\site-packages (3.7)\n",
      "Requirement already satisfied: joblib in c:\\users\\orlov\\anaconda3\\lib\\site-packages (from nltk) (1.1.1)\n",
      "Requirement already satisfied: click in c:\\users\\orlov\\anaconda3\\lib\\site-packages (from nltk) (8.0.4)\n",
      "Requirement already satisfied: tqdm in c:\\users\\orlov\\anaconda3\\lib\\site-packages (from nltk) (4.64.1)\n",
      "Requirement already satisfied: regex>=2021.8.3 in c:\\users\\orlov\\anaconda3\\lib\\site-packages (from nltk) (2022.7.9)\n",
      "Requirement already satisfied: colorama in c:\\users\\orlov\\anaconda3\\lib\\site-packages (from click->nltk) (0.4.6)\n"
     ]
    }
   ],
   "source": [
    "!pip install torchmetrics\n",
    "!pip install stop_words\n",
    "!pip install nltk"
   ]
  },
  {
   "cell_type": "code",
   "execution_count": 13,
   "id": "aafab298",
   "metadata": {},
   "outputs": [
    {
     "name": "stderr",
     "output_type": "stream",
     "text": [
      "[nltk_data] Downloading package omw-1.4 to\n",
      "[nltk_data]     C:\\Users\\orlov\\AppData\\Roaming\\nltk_data...\n",
      "[nltk_data] Downloading package wordnet to\n",
      "[nltk_data]     C:\\Users\\orlov\\AppData\\Roaming\\nltk_data...\n",
      "[nltk_data]   Package wordnet is already up-to-date!\n",
      "[nltk_data] Downloading package punkt to\n",
      "[nltk_data]     C:\\Users\\orlov\\AppData\\Roaming\\nltk_data...\n",
      "[nltk_data]   Package punkt is already up-to-date!\n"
     ]
    }
   ],
   "source": [
    "import pandas as pd\n",
    "import numpy as np\n",
    "import torch\n",
    "import torch.nn as nn\n",
    "import torch.nn.functional as F\n",
    "import torchmetrics\n",
    "\n",
    "from torch.utils.data import DataLoader, Dataset\n",
    "from sklearn.model_selection import train_test_split\n",
    "\n",
    "import nltk\n",
    "nltk.download('omw-1.4')\n",
    "from nltk.tokenize import word_tokenize\n",
    "from nltk.stem import WordNetLemmatizer\n",
    "nltk.download('wordnet')\n",
    "nltk.download(\"punkt\")\n",
    "\n",
    "from string import punctuation\n",
    "from stop_words import get_stop_words\n",
    "# from pymorphy2 import MorphAnalyzer\n",
    "\n",
    "import re"
   ]
  },
  {
   "cell_type": "code",
   "execution_count": 14,
   "id": "505a22b9",
   "metadata": {},
   "outputs": [],
   "source": [
    "max_words = 1000\n",
    "max_len = 10\n",
    "num_classes = 1\n",
    "\n",
    "epochs = 15\n",
    "batch_size = 512\n",
    "print_batch_n = 100"
   ]
  },
  {
   "cell_type": "code",
   "execution_count": 15,
   "id": "88065486",
   "metadata": {},
   "outputs": [],
   "source": [
    "train_df = pd.read_csv('train.csv')\n",
    "# test_df = pd.read_csv('test.csv')')"
   ]
  },
  {
   "cell_type": "code",
   "execution_count": 16,
   "id": "07d20e8a",
   "metadata": {},
   "outputs": [
    {
     "data": {
      "text/html": [
       "<div>\n",
       "<style scoped>\n",
       "    .dataframe tbody tr th:only-of-type {\n",
       "        vertical-align: middle;\n",
       "    }\n",
       "\n",
       "    .dataframe tbody tr th {\n",
       "        vertical-align: top;\n",
       "    }\n",
       "\n",
       "    .dataframe thead th {\n",
       "        text-align: right;\n",
       "    }\n",
       "</style>\n",
       "<table border=\"1\" class=\"dataframe\">\n",
       "  <thead>\n",
       "    <tr style=\"text-align: right;\">\n",
       "      <th></th>\n",
       "      <th>id</th>\n",
       "      <th>label</th>\n",
       "      <th>tweet</th>\n",
       "    </tr>\n",
       "  </thead>\n",
       "  <tbody>\n",
       "    <tr>\n",
       "      <th>0</th>\n",
       "      <td>1</td>\n",
       "      <td>0</td>\n",
       "      <td>@user when a father is dysfunctional and is s...</td>\n",
       "    </tr>\n",
       "    <tr>\n",
       "      <th>1</th>\n",
       "      <td>2</td>\n",
       "      <td>0</td>\n",
       "      <td>@user @user thanks for #lyft credit i can't us...</td>\n",
       "    </tr>\n",
       "    <tr>\n",
       "      <th>2</th>\n",
       "      <td>3</td>\n",
       "      <td>0</td>\n",
       "      <td>bihday your majesty</td>\n",
       "    </tr>\n",
       "    <tr>\n",
       "      <th>3</th>\n",
       "      <td>4</td>\n",
       "      <td>0</td>\n",
       "      <td>#model   i love u take with u all the time in ...</td>\n",
       "    </tr>\n",
       "    <tr>\n",
       "      <th>4</th>\n",
       "      <td>5</td>\n",
       "      <td>0</td>\n",
       "      <td>factsguide: society now    #motivation</td>\n",
       "    </tr>\n",
       "  </tbody>\n",
       "</table>\n",
       "</div>"
      ],
      "text/plain": [
       "   id  label                                              tweet\n",
       "0   1      0   @user when a father is dysfunctional and is s...\n",
       "1   2      0  @user @user thanks for #lyft credit i can't us...\n",
       "2   3      0                                bihday your majesty\n",
       "3   4      0  #model   i love u take with u all the time in ...\n",
       "4   5      0             factsguide: society now    #motivation"
      ]
     },
     "execution_count": 16,
     "metadata": {},
     "output_type": "execute_result"
    }
   ],
   "source": [
    "train_df.head()"
   ]
  },
  {
   "cell_type": "code",
   "execution_count": 17,
   "id": "188c1a38",
   "metadata": {},
   "outputs": [
    {
     "data": {
      "text/plain": [
       "0    29720\n",
       "1     2242\n",
       "Name: label, dtype: int64"
      ]
     },
     "execution_count": 17,
     "metadata": {},
     "output_type": "execute_result"
    }
   ],
   "source": [
    "train_df.label.value_counts()"
   ]
  },
  {
   "cell_type": "code",
   "execution_count": 18,
   "id": "84e3b8f1",
   "metadata": {},
   "outputs": [
    {
     "data": {
      "text/plain": [
       "((23971, 3), (7991, 3))"
      ]
     },
     "execution_count": 18,
     "metadata": {},
     "output_type": "execute_result"
    }
   ],
   "source": [
    "X_train, X_valid = train_test_split(train_df, test_size=0.25, random_state=42)\n",
    "X_train.shape, X_valid.shape"
   ]
  },
  {
   "cell_type": "code",
   "execution_count": 19,
   "id": "e2ec5fb1",
   "metadata": {},
   "outputs": [
    {
     "data": {
      "text/plain": [
       "0    22288\n",
       "1     1683\n",
       "Name: label, dtype: int64"
      ]
     },
     "execution_count": 19,
     "metadata": {},
     "output_type": "execute_result"
    }
   ],
   "source": [
    "X_train.label.value_counts()"
   ]
  },
  {
   "cell_type": "code",
   "execution_count": 20,
   "id": "170b736c",
   "metadata": {},
   "outputs": [
    {
     "data": {
      "text/plain": [
       "0    7432\n",
       "1     559\n",
       "Name: label, dtype: int64"
      ]
     },
     "execution_count": 20,
     "metadata": {},
     "output_type": "execute_result"
    }
   ],
   "source": [
    "X_valid.label.value_counts()"
   ]
  },
  {
   "cell_type": "code",
   "execution_count": 21,
   "id": "08c96eff",
   "metadata": {},
   "outputs": [],
   "source": [
    "sw = set(get_stop_words(\"en\"))"
   ]
  },
  {
   "cell_type": "code",
   "execution_count": 22,
   "id": "42423141",
   "metadata": {},
   "outputs": [],
   "source": [
    "puncts = set(punctuation)"
   ]
  },
  {
   "cell_type": "code",
   "execution_count": 23,
   "id": "17bac8d2",
   "metadata": {},
   "outputs": [
    {
     "data": {
      "text/plain": [
       "'dog'"
      ]
     },
     "execution_count": 23,
     "metadata": {},
     "output_type": "execute_result"
    }
   ],
   "source": [
    "morpher = WordNetLemmatizer()\n",
    "morpher.lemmatize('dogs')"
   ]
  },
  {
   "cell_type": "code",
   "execution_count": 24,
   "id": "f25f5387",
   "metadata": {},
   "outputs": [],
   "source": [
    "def preprocess_text(txt):\n",
    "    txt = str(txt)\n",
    "    txt = \"\".join(c for c in txt if c not in puncts)\n",
    "    txt = txt.lower()\n",
    "#     txt = re.sub(\"не\\s\", \"не\", txt)\n",
    "    txt = [morpher.lemmatize(word) for word in txt.split() if word not in sw]\n",
    "    return \" \".join(txt)"
   ]
  },
  {
   "cell_type": "code",
   "execution_count": 25,
   "id": "cc186f9d",
   "metadata": {},
   "outputs": [],
   "source": [
    "# train_df.tweet.iloc[:1].values"
   ]
  },
  {
   "cell_type": "code",
   "execution_count": 26,
   "id": "4ff86fac",
   "metadata": {},
   "outputs": [],
   "source": [
    "# train_df.tweet.iloc[:1].apply(preprocess_text).values"
   ]
  },
  {
   "cell_type": "code",
   "execution_count": 27,
   "id": "21790af1",
   "metadata": {},
   "outputs": [
    {
     "name": "stderr",
     "output_type": "stream",
     "text": [
      "100%|██████████| 23971/23971 [00:01<00:00, 16175.62it/s]\n",
      "100%|██████████| 7991/7991 [00:00<00:00, 15000.08it/s]\n"
     ]
    }
   ],
   "source": [
    "from tqdm import tqdm \n",
    "tqdm.pandas()\n",
    "\n",
    "X_train.tweet = X_train.tweet.progress_apply(preprocess_text)\n",
    "X_valid.tweet = X_valid.tweet.progress_apply(preprocess_text)"
   ]
  },
  {
   "cell_type": "code",
   "execution_count": 28,
   "id": "e0738e8a",
   "metadata": {},
   "outputs": [
    {
     "data": {
      "text/plain": [
       "['weekend', 'world', 'really', 'going', 'bonkers']"
      ]
     },
     "execution_count": 28,
     "metadata": {},
     "output_type": "execute_result"
    }
   ],
   "source": [
    "train_corpus = \" \".join(X_train.tweet)\n",
    "train_corpus = train_corpus.lower()\n",
    "tokens = word_tokenize(train_corpus)\n",
    "tokens[:5]"
   ]
  },
  {
   "cell_type": "code",
   "execution_count": 29,
   "id": "9f7ec88d",
   "metadata": {},
   "outputs": [],
   "source": [
    "tokens_filtered = [word for word in tokens if word.isalnum()]"
   ]
  },
  {
   "cell_type": "code",
   "execution_count": 30,
   "id": "2b91f2a6",
   "metadata": {},
   "outputs": [
    {
     "data": {
      "text/plain": [
       "999"
      ]
     },
     "execution_count": 30,
     "metadata": {},
     "output_type": "execute_result"
    }
   ],
   "source": [
    "from nltk.probability import FreqDist\n",
    "\n",
    "dist = FreqDist(tokens_filtered)\n",
    "tokens_filtered_top = [pair[0] for pair in dist.most_common(max_words-1)]  # вычитание 1 для padding\n",
    "len(tokens_filtered_top)"
   ]
  },
  {
   "cell_type": "code",
   "execution_count": 31,
   "id": "88cb21d1",
   "metadata": {},
   "outputs": [
    {
     "data": {
      "text/plain": [
       "['user', 'love', 'day', 'u', 'happy', 'amp', 'just', 'will', 'time', 'life']"
      ]
     },
     "execution_count": 31,
     "metadata": {},
     "output_type": "execute_result"
    }
   ],
   "source": [
    "tokens_filtered_top[:10]"
   ]
  },
  {
   "cell_type": "code",
   "execution_count": 32,
   "id": "b4272998",
   "metadata": {},
   "outputs": [],
   "source": [
    "vocabulary = {v: k for k, v in dict(enumerate(tokens_filtered_top, 1)).items()}"
   ]
  },
  {
   "cell_type": "code",
   "execution_count": 33,
   "id": "07e01e11",
   "metadata": {},
   "outputs": [],
   "source": [
    "def text_to_sequence(text, maxlen):\n",
    "    \n",
    "    result = []\n",
    "    tokens = word_tokenize(text.lower())\n",
    "    tokens_filtered = [word for word in tokens if word.isalnum()] # проверка чтобы токен был либо буквенный либо символьный\n",
    "    for word in tokens_filtered:\n",
    "        if word in vocabulary:\n",
    "            result.append(vocabulary[word])\n",
    "\n",
    "    padding = [0] * (maxlen-len(result))\n",
    "    \n",
    "    return result[-maxlen:] + padding"
   ]
  },
  {
   "cell_type": "code",
   "execution_count": 34,
   "id": "79f0dbcb",
   "metadata": {},
   "outputs": [
    {
     "data": {
      "text/plain": [
       "((23971, 10), (7991, 10))"
      ]
     },
     "execution_count": 34,
     "metadata": {},
     "output_type": "execute_result"
    }
   ],
   "source": [
    "x_train = np.asarray([text_to_sequence(text, max_len) for text in X_train.tweet])\n",
    "x_val = np.asarray([text_to_sequence(text, max_len) for text in X_valid.tweet])\n",
    "\n",
    "x_train.shape, x_val.shape"
   ]
  },
  {
   "cell_type": "code",
   "execution_count": 35,
   "id": "fb319d22",
   "metadata": {},
   "outputs": [
    {
     "data": {
      "text/plain": [
       "' @user when a father is dysfunctional and is so selfish he drags his kids into his dysfunction.   #run'"
      ]
     },
     "execution_count": 35,
     "metadata": {},
     "output_type": "execute_result"
    }
   ],
   "source": [
    "train_df.tweet.iloc[0]"
   ]
  },
  {
   "cell_type": "code",
   "execution_count": 36,
   "id": "bac1cfd8",
   "metadata": {},
   "outputs": [
    {
     "data": {
      "text/plain": [
       "array([35,  0,  0,  0,  0,  0,  0,  0,  0,  0])"
      ]
     },
     "execution_count": 36,
     "metadata": {},
     "output_type": "execute_result"
    }
   ],
   "source": [
    "x_train[0]"
   ]
  },
  {
   "cell_type": "code",
   "execution_count": 37,
   "id": "14eaf786",
   "metadata": {},
   "outputs": [],
   "source": [
    "class GRUFixedLen(nn.Module) :\n",
    "    def __init__(self, vocab_size, embedding_dim=128, hidden_dim=128, use_last=True):\n",
    "        super().__init__()\n",
    "        self.use_last = use_last\n",
    "        self.embeddings = nn.Embedding(vocab_size, embedding_dim, padding_idx=0)\n",
    "        self.gru = nn.GRU(embedding_dim, hidden_dim, num_layers=2, batch_first=True)\n",
    "        self.linear = nn.Linear(hidden_dim, 1)\n",
    "        self.dropout = nn.Dropout(0.2)\n",
    "        \n",
    "    def forward(self, x):\n",
    "        x = self.embeddings(x)\n",
    "        x = self.dropout(x)\n",
    "        gru_out, ht = self.gru(x)\n",
    "       \n",
    "        if self.use_last:\n",
    "            last_tensor = gru_out[:,-1,:]\n",
    "        else:\n",
    "            # use mean\n",
    "            last_tensor = torch.mean(gru_out[:,:], dim=1)\n",
    "    \n",
    "        out = self.linear(last_tensor)\n",
    "        return torch.sigmoid(out)"
   ]
  },
  {
   "cell_type": "code",
   "execution_count": 38,
   "id": "7722d120",
   "metadata": {},
   "outputs": [],
   "source": [
    "class DataWrapper(Dataset):\n",
    "    def __init__(self, data, target, transform=None):\n",
    "        self.data = torch.from_numpy(data).long() # если индексы инты то делать лучше лонг - иначе может сломаться вдруг -\n",
    "        # так как на инт меньше памяти выделяется на каждое значение и может переполниться\n",
    "        self.target = torch.from_numpy(target).long() # какие то ф-и потерь на интах не считается - а только на лонгах\n",
    "        self.transform = transform\n",
    "        \n",
    "    def __getitem__(self, index):\n",
    "        x = self.data[index]\n",
    "        y = self.target[index]\n",
    "        \n",
    "        if self.transform:\n",
    "            x = self.transform(x)\n",
    "            \n",
    "        return x, y\n",
    "    \n",
    "    def __len__(self):\n",
    "        return len(self.data)"
   ]
  },
  {
   "cell_type": "code",
   "execution_count": 39,
   "id": "9b5b8141",
   "metadata": {},
   "outputs": [],
   "source": [
    "train_dataset = DataWrapper(x_train, X_train.label.values)\n",
    "train_loader = DataLoader(train_dataset, batch_size=batch_size, shuffle=True)\n",
    "\n",
    "val_dataset = DataWrapper(x_val, X_valid.label.values)\n",
    "val_loader = DataLoader(val_dataset, batch_size=8, shuffle=True)"
   ]
  },
  {
   "cell_type": "code",
   "execution_count": 40,
   "id": "2403ddc9",
   "metadata": {},
   "outputs": [
    {
     "data": {
      "text/plain": [
       "<torch.utils.data.sampler.RandomSampler at 0x255cf1e06a0>"
      ]
     },
     "execution_count": 40,
     "metadata": {},
     "output_type": "execute_result"
    }
   ],
   "source": [
    "train_loader.sampler"
   ]
  },
  {
   "cell_type": "code",
   "execution_count": 41,
   "id": "97339b76",
   "metadata": {},
   "outputs": [
    {
     "name": "stdout",
     "output_type": "stream",
     "text": [
      "torch.Size([512, 10])\n",
      "torch.Size([512])\n",
      "tensor(0)\n"
     ]
    }
   ],
   "source": [
    "for x, l in train_loader:\n",
    "    print(x.shape)\n",
    "    print(l.shape)\n",
    "    print(l[0])\n",
    "    break"
   ]
  },
  {
   "cell_type": "code",
   "execution_count": 42,
   "id": "2a5d7df5",
   "metadata": {},
   "outputs": [
    {
     "data": {
      "text/plain": [
       "'cpu'"
      ]
     },
     "execution_count": 42,
     "metadata": {},
     "output_type": "execute_result"
    }
   ],
   "source": [
    "device = 'cuda' if torch.cuda.is_available() else 'cpu'\n",
    "device"
   ]
  },
  {
   "cell_type": "code",
   "execution_count": 43,
   "id": "95c05ab9",
   "metadata": {},
   "outputs": [],
   "source": [
    "model = GRUFixedLen(max_words).to(device)\n",
    "optimizer = torch.optim.Adam(model.parameters(), lr=0.001)\n",
    "criterion = nn.BCELoss()"
   ]
  },
  {
   "cell_type": "code",
   "execution_count": 44,
   "id": "350a604e",
   "metadata": {},
   "outputs": [
    {
     "name": "stdout",
     "output_type": "stream",
     "text": [
      "GRUFixedLen(\n",
      "  (embeddings): Embedding(1000, 128, padding_idx=0)\n",
      "  (gru): GRU(128, 128, num_layers=2, batch_first=True)\n",
      "  (linear): Linear(in_features=128, out_features=1, bias=True)\n",
      "  (dropout): Dropout(p=0.2, inplace=False)\n",
      ")\n",
      "Parameters: 326273\n"
     ]
    }
   ],
   "source": [
    "print(model)\n",
    "print(\"Parameters:\", sum([param.nelement() for param in model.parameters()]))"
   ]
  },
  {
   "cell_type": "code",
   "execution_count": 51,
   "id": "9232b09e",
   "metadata": {},
   "outputs": [],
   "source": [
    "train_f1_score = torchmetrics.F1Score(task='binary')\n",
    "test_f1_score = torchmetrics.F1Score(task='binary')"
   ]
  },
  {
   "cell_type": "code",
   "execution_count": 52,
   "id": "585abb2e",
   "metadata": {},
   "outputs": [
    {
     "name": "stdout",
     "output_type": "stream",
     "text": [
      "Epoch [1/15]. Step [47/47]. \n",
      "Train: Loss: 0.188. Acc: 0.920, f1_score_train: 0.066, \n",
      "Test:  Loss: 0.561. Acc: 0.937, f1_score_test:  0.296\n",
      "\n",
      "Epoch [2/15]. Step [47/47]. \n",
      "Train: Loss: 0.132. Acc: 0.940, f1_score_train: 0.347, \n",
      "Test:  Loss: 0.057. Acc: 0.946, f1_score_test:  0.465\n",
      "\n",
      "Epoch [3/15]. Step [47/47]. \n",
      "Train: Loss: 0.206. Acc: 0.948, f1_score_train: 0.455, \n",
      "Test:  Loss: 0.562. Acc: 0.948, f1_score_test:  0.519\n",
      "\n",
      "Epoch [4/15]. Step [47/47]. \n",
      "Train: Loss: 0.113. Acc: 0.951, f1_score_train: 0.558, \n",
      "Test:  Loss: 0.297. Acc: 0.947, f1_score_test:  0.506\n",
      "\n",
      "Epoch [5/15]. Step [47/47]. \n",
      "Train: Loss: 0.105. Acc: 0.953, f1_score_train: 0.580, \n",
      "Test:  Loss: 0.003. Acc: 0.947, f1_score_test:  0.591\n",
      "\n",
      "Epoch [6/15]. Step [47/47]. \n",
      "Train: Loss: 0.131. Acc: 0.955, f1_score_train: 0.612, \n",
      "Test:  Loss: 0.032. Acc: 0.948, f1_score_test:  0.534\n",
      "\n",
      "Epoch [7/15]. Step [47/47]. \n",
      "Train: Loss: 0.121. Acc: 0.957, f1_score_train: 0.645, \n",
      "Test:  Loss: 0.442. Acc: 0.946, f1_score_test:  0.508\n",
      "\n",
      "Epoch [8/15]. Step [47/47]. \n",
      "Train: Loss: 0.104. Acc: 0.959, f1_score_train: 0.675, \n",
      "Test:  Loss: 0.504. Acc: 0.947, f1_score_test:  0.535\n",
      "\n",
      "Epoch [9/15]. Step [47/47]. \n",
      "Train: Loss: 0.131. Acc: 0.962, f1_score_train: 0.708, \n",
      "Test:  Loss: 0.148. Acc: 0.945, f1_score_test:  0.587\n",
      "\n",
      "Epoch [10/15]. Step [47/47]. \n",
      "Train: Loss: 0.069. Acc: 0.962, f1_score_train: 0.702, \n",
      "Test:  Loss: 0.559. Acc: 0.943, f1_score_test:  0.552\n",
      "\n",
      "Epoch [11/15]. Step [47/47]. \n",
      "Train: Loss: 0.091. Acc: 0.965, f1_score_train: 0.720, \n",
      "Test:  Loss: 0.044. Acc: 0.945, f1_score_test:  0.561\n",
      "\n",
      "Epoch [12/15]. Step [47/47]. \n",
      "Train: Loss: 0.101. Acc: 0.967, f1_score_train: 0.761, \n",
      "Test:  Loss: 0.014. Acc: 0.939, f1_score_test:  0.557\n",
      "\n",
      "Epoch [13/15]. Step [47/47]. \n",
      "Train: Loss: 0.079. Acc: 0.970, f1_score_train: 0.766, \n",
      "Test:  Loss: 0.073. Acc: 0.941, f1_score_test:  0.569\n",
      "\n",
      "Epoch [14/15]. Step [47/47]. \n",
      "Train: Loss: 0.062. Acc: 0.972, f1_score_train: 0.794, \n",
      "Test:  Loss: 0.479. Acc: 0.944, f1_score_test:  0.541\n",
      "\n",
      "Epoch [15/15]. Step [47/47]. \n",
      "Train: Loss: 0.070. Acc: 0.975, f1_score_train: 0.824, \n",
      "Test:  Loss: 0.019. Acc: 0.942, f1_score_test:  0.558\n",
      "\n",
      "done\n"
     ]
    }
   ],
   "source": [
    "model = model.to(device)\n",
    "model.train()\n",
    "th = 0.5\n",
    "\n",
    "train_loss_history = []\n",
    "test_loss_history = []\n",
    "\n",
    "\n",
    "for epoch in range(epochs):  \n",
    "    running_items, running_right, all_f1_score_train = 0.0, 0.0, 0.0\n",
    "    for i, data in enumerate(train_loader, 0):\n",
    "        inputs, labels = data[0].to(device), data[1].to(device)\n",
    "        \n",
    "        # обнуляем градиент\n",
    "        optimizer.zero_grad()\n",
    "        outputs = model(inputs)\n",
    "        train_f1_score(outputs.squeeze(), labels)\n",
    "        \n",
    "        loss = criterion(outputs, labels.float().view(-1, 1))\n",
    "        loss.backward()\n",
    "        optimizer.step()\n",
    "\n",
    "        # подсчет ошибки на обучении\n",
    "        loss = loss.item()\n",
    "        running_items += len(labels)\n",
    "        # подсчет метрики на обучении\n",
    "        pred_labels = torch.squeeze((outputs > th).int())\n",
    "        running_right += (labels == pred_labels).sum()\n",
    "        all_f1_score_train += train_f1_score.compute().item()\n",
    "        \n",
    "    # выводим статистику о процессе обучения (переводим модель в валидацию)\n",
    "    model.eval()\n",
    "    \n",
    "    print(f'Epoch [{epoch + 1}/{epochs}]. ' \\\n",
    "            f'Step [{i + 1}/{len(train_loader)}]. \\n' \\\n",
    "            f'Train: Loss: {loss:.3f}. ' \\\n",
    "            f'Acc: {running_right / running_items:.3f}, ' \\\n",
    "            f'f1_score_train: {all_f1_score_train / (i+1):.3f}, ')\n",
    "\n",
    "    \n",
    "    running_loss, running_items, running_right, all_f1_score_train = 0.0, 0.0, 0.0, 0.0\n",
    "    train_f1_score.reset()\n",
    "    train_loss_history.append(loss)\n",
    "\n",
    "        # выводим статистику на тестовых данных\n",
    "    test_running_right, test_running_total, test_loss, all_f1_score_test = 0.0, 0.0, 0.0, 0.0\n",
    "    for j, data in enumerate(val_loader):\n",
    "        \n",
    "        test_outputs = model(data[0].to(device))\n",
    "        test_labels = data[1].to(device)\n",
    "\n",
    "        # подсчет ошибки на тесте\n",
    "        test_loss = criterion(test_outputs, test_labels.float().view(-1, 1))\n",
    "        \n",
    "        # подсчет метрики на тесте\n",
    "        test_f1_score(test_outputs.squeeze(), test_labels)\n",
    "        \n",
    "        test_running_total += len(data[1])\n",
    "        pred_test_labels = torch.squeeze((test_outputs > th).int())\n",
    "        test_running_right += (test_labels == pred_test_labels).sum()\n",
    "        \n",
    "        all_f1_score_test += test_f1_score.compute().item()\n",
    "\n",
    "    test_loss_history.append(test_loss.item())\n",
    "    print(f'Test:  Loss: {test_loss:.3f}. Acc: {test_running_right / test_running_total:.3f},', end=' ')\n",
    "    \n",
    "    print(f'f1_score_test:  {all_f1_score_test / (j+1):.3f}\\n')\n",
    "    test_f1_score.reset()\n",
    "    \n",
    "    model.train()\n",
    "        \n",
    "print('done')"
   ]
  },
  {
   "cell_type": "code",
   "execution_count": 53,
   "id": "517707e3",
   "metadata": {},
   "outputs": [
    {
     "data": {
      "image/png": "[encoded data removed]",
      "text/plain": [
       "<Figure size 640x480 with 1 Axes>"
      ]
     },
     "metadata": {},
     "output_type": "display_data"
    }
   ],
   "source": [
    "import matplotlib.pyplot as plt\n",
    "\n",
    "plt.title('Loss history')\n",
    "plt.grid(True)\n",
    "plt.ylabel('Loss')\n",
    "plt.xlabel('Epoch')\n",
    "plt.plot(train_loss_history, label='train')\n",
    "plt.plot(test_loss_history, label='test')\n",
    "plt.legend();"
   ]
  },
  {
   "cell_type": "markdown",
   "id": "a7f66225",
   "metadata": {},
   "source": [
    "с увеличеснием количества слов растет точность на тесте, однако также и растет переобучение"
   ]
  }
 ],
 "metadata": {
  "kernelspec": {
   "display_name": "Python 3 (ipykernel)",
   "language": "python",
   "name": "python3"
  },
  "language_info": {
   "codemirror_mode": {
    "name": "ipython",
    "version": 3
   },
   "file_extension": ".py",
   "mimetype": "text/x-python",
   "name": "python",
   "nbconvert_exporter": "python",
   "pygments_lexer": "ipython3",
   "version": "3.7.12"
  }
 },
 "nbformat": 4,
 "nbformat_minor": 5
}
