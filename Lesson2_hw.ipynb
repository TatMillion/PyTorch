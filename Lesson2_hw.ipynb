{
 "cells": [
  {
   "cell_type": "markdown",
   "id": "aeff83f4",
   "metadata": {},
   "source": [
    "### Домашнее задание\n",
    "Добиться хорошего результата от модели, собранной на занятии (5 угаданныx картинок из 8 предложенных). Варианты изменений:\n",
    "\n",
    "изменение слоёв и их количества;\n",
    "изменение метода оптимизации;\n",
    "изменение процесса обучения;"
   ]
  },
  {
   "cell_type": "code",
   "execution_count": null,
   "id": "5eb74e14",
   "metadata": {},
   "outputs": [],
   "source": [
    "# !pip3 install torch torchvision"
   ]
  },
  {
   "cell_type": "code",
   "execution_count": 1,
   "id": "c36d7d1a",
   "metadata": {},
   "outputs": [
    {
     "name": "stderr",
     "output_type": "stream",
     "text": [
      "C:\\Users\\Tato\\anaconda3\\envs\\tensorflow\\lib\\site-packages\\tqdm\\auto.py:22: TqdmWarning: IProgress not found. Please update jupyter and ipywidgets. See https://ipywidgets.readthedocs.io/en/stable/user_install.html\n",
      "  from .autonotebook import tqdm as notebook_tqdm\n"
     ]
    }
   ],
   "source": [
    "import torch\n",
    "import numpy as np\n",
    "import torch.nn.functional as F\n",
    "from torch import nn\n",
    "import torchvision\n",
    "from torch import optim\n",
    "import torchvision.transforms as transforms\n",
    "import matplotlib.pyplot as plt"
   ]
  },
  {
   "cell_type": "code",
   "execution_count": null,
   "id": "0fa56618",
   "metadata": {},
   "outputs": [
    {
     "name": "stdout",
     "output_type": "stream",
     "text": [
      "Downloading https://www.cs.toronto.edu/~kriz/cifar-10-python.tar.gz to data/cifar-10-python.tar.gz\n"
     ]
    },
    {
     "name": "stderr",
     "output_type": "stream",
     "text": [
      " 73%|██████████████████████████████████████████████▊                 | 124715008/170498071 [03:39<02:01, 377711.60it/s]"
     ]
    }
   ],
   "source": [
    "train_dataset = torchvision.datasets.CIFAR10(root='data/',\n",
    "                                             train=True,  \n",
    "                                             transform=transforms.ToTensor(), \n",
    "                                             download=True)"
   ]
  },
  {
   "cell_type": "code",
   "execution_count": null,
   "id": "ddcc1402",
   "metadata": {},
   "outputs": [],
   "source": [
    "image, label = train_dataset[3]"
   ]
  },
  {
   "cell_type": "code",
   "execution_count": null,
   "id": "42c3bde0",
   "metadata": {},
   "outputs": [],
   "source": [
    "plt.imshow(image.permute(1, 2, 0).numpy())"
   ]
  },
  {
   "cell_type": "code",
   "execution_count": null,
   "id": "e934c4c7",
   "metadata": {},
   "outputs": [],
   "source": [
    "train_loader = torch.utils.data.DataLoader(dataset=train_dataset,\n",
    "                                           batch_size=64, \n",
    "                                           shuffle=True)"
   ]
  },
  {
   "cell_type": "code",
   "execution_count": null,
   "id": "007153c0",
   "metadata": {},
   "outputs": [],
   "source": [
    "test_dataset = torchvision.datasets.CIFAR10(root='./data', train=False,\n",
    "                                            download=True, transform=transforms.ToTensor())\n",
    "test_loader = torch.utils.data.DataLoader(test_dataset, batch_size=8,\n",
    "                                          shuffle=False)"
   ]
  },
  {
   "cell_type": "code",
   "execution_count": null,
   "id": "fd7156bd",
   "metadata": {},
   "outputs": [],
   "source": [
    "classes = ('plane', 'car', 'bird', 'cat',\n",
    "           'deer', 'dog', 'frog', 'horse', 'ship', 'truck')"
   ]
  },
  {
   "cell_type": "code",
   "execution_count": null,
   "id": "19572b56",
   "metadata": {},
   "outputs": [],
   "source": [
    "import torch.nn.functional as F\n",
    "\n",
    "\n",
    "class Net(nn.Module):\n",
    "    def __init__(self, input_dim, hidden_dim, output_dim):\n",
    "        super().__init__()\n",
    "        self.fc1 = nn.Linear(input_dim, 5 * hidden_dim)\n",
    "        self.fc2 = nn.Linear(5 * hidden_dim, 10 * hidden_dim)\n",
    "        self.fc3 = nn.Linear(10 * hidden_dim, 15 * hidden_dim)\n",
    "        self.fc4 = nn.Linear(15 * hidden_dim, 10 * hidden_dim)\n",
    "        self.fc5 = nn.Linear(10 * hidden_dim, output_dim)\n",
    "        self.fc6 = nn.Linear(hidden_dim, output_dim)\n",
    "\n",
    "    def forward(self, x):\n",
    "        x = x.view(x.shape[0], -1)\n",
    "        x = self.fc1(x)\n",
    "        x = F.leaky_relu(x)\n",
    "        x = self.fc2(x)\n",
    "        x = F.elu(x)\n",
    "        x = self.fc3(x)\n",
    "        x = F.leaky_relu(x)\n",
    "        x = self.fc4(x)\n",
    "        x = F.elu(x)\n",
    "        return x\n",
    "    \n",
    "    def predict(self, x):\n",
    "        x = x.view(x.shape[0], -1)\n",
    "        x = self.fc1(x)\n",
    "        x = F.leaky_relu(x)\n",
    "        x = self.fc2(x)\n",
    "        x = F.elu(x)\n",
    "        x = self.fc3(x)\n",
    "        x = F.leaky_relu(x)\n",
    "        x = self.fc4(x)\n",
    "        x = F.elu(x)\n",
    "        x = self.fc5(x)\n",
    "        x = F.softmax(x)\n",
    "        return x\n",
    "\n",
    "\n",
    "net = Net(3072, 100, 10)\n",
    "net.train()"
   ]
  },
  {
   "cell_type": "code",
   "execution_count": null,
   "id": "31ee8f78",
   "metadata": {},
   "outputs": [],
   "source": [
    "criterion = nn.CrossEntropyLoss()\n",
    "optimizer = optim.SGD(net.parameters(), lr=0.01, momentum=0.9)"
   ]
  },
  {
   "cell_type": "code",
   "execution_count": null,
   "id": "29c0354c",
   "metadata": {},
   "outputs": [],
   "source": [
    "num_epochs = 15\n",
    "\n",
    "for epoch in range(num_epochs):\n",
    "    running_loss = 0.0\n",
    "    running_items = 0.0\n",
    "\n",
    "\n",
    "    for i, data in enumerate(train_loader):\n",
    "        inputs, labels = data[0], data[1]\n",
    "\n",
    "         # Обнуляем градиент\n",
    "        optimizer.zero_grad()\n",
    "        # Делаем предсказание\n",
    "        outputs = net(inputs)\n",
    "        # Рассчитываем лосс-функцию\n",
    "        loss = criterion(outputs, labels)\n",
    "        # Делаем шаг назад по лоссу\n",
    "        loss.backward()\n",
    "        # Делаем шаг нашего оптимайзера\n",
    "        optimizer.step()\n",
    "\n",
    "        # выводим статистику о процессе обучения\n",
    "        running_loss += loss.item()\n",
    "        running_items += len(labels)\n",
    "        if i % 782 == 0:    # печатаем каждую эпоху\n",
    "            print(f'Epoch [{epoch + 1}/{num_epochs}]. ' \\\n",
    "                  f'Loss: {running_loss / running_items:.3f}')\n",
    "            running_loss, running_items = 0.0, 0.0\n",
    "\n",
    "print('Training is finished!')"
   ]
  },
  {
   "cell_type": "code",
   "execution_count": null,
   "id": "d6d3e0fe",
   "metadata": {},
   "outputs": [],
   "source": [
    "data_iter = iter(test_loader)\n",
    "images, labels = data_iter.next()"
   ]
  },
  {
   "cell_type": "code",
   "execution_count": null,
   "id": "f9151a2c",
   "metadata": {},
   "outputs": [],
   "source": [
    "net.eval()\n",
    "outputs = net(images)\n",
    "imgs = torchvision.utils.make_grid(images)\n",
    "plt.figure(figsize=(10, 5))\n",
    "plt.imshow(imgs.permute(1, 2, 0).numpy())\n",
    "print('GroundTruth: ', ' '.join(classes[labels[j]] for j in range(len(labels))))"
   ]
  },
  {
   "cell_type": "code",
   "execution_count": null,
   "id": "c66f02bd",
   "metadata": {},
   "outputs": [],
   "source": [
    "_, predicted = torch.max(outputs, 1)\n",
    "\n",
    "predicted"
   ]
  },
  {
   "cell_type": "code",
   "execution_count": null,
   "id": "4257be0f",
   "metadata": {},
   "outputs": [],
   "source": [
    "gt = np.array([classes[labels[j]] for j in range(len(labels))])\n",
    "pred = np.array([classes[predicted[j]] for j in range(len(labels))])\n",
    "\n",
    "print(gt)\n",
    "print(pred)\n",
    "print(f'Accuracy is {(gt == pred).sum() / len(gt)}')"
   ]
  },
  {
   "cell_type": "code",
   "execution_count": null,
   "id": "26d5802d",
   "metadata": {},
   "outputs": [],
   "source": []
  }
 ],
 "metadata": {
  "kernelspec": {
   "display_name": "Python 3 (ipykernel)",
   "language": "python",
   "name": "python3"
  },
  "language_info": {
   "codemirror_mode": {
    "name": "ipython",
    "version": 3
   },
   "file_extension": ".py",
   "mimetype": "text/x-python",
   "name": "python",
   "nbconvert_exporter": "python",
   "pygments_lexer": "ipython3",
   "version": "3.7.12"
  }
 },
 "nbformat": 4,
 "nbformat_minor": 5
}
