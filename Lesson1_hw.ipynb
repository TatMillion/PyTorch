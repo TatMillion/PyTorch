{
 "cells": [
  {
   "cell_type": "code",
   "execution_count": 1,
   "id": "677e0556",
   "metadata": {},
   "outputs": [
    {
     "name": "stdout",
     "output_type": "stream",
     "text": [
      "Collecting torch\n",
      "  Downloading torch-1.13.1-cp37-cp37m-win_amd64.whl (162.6 MB)\n",
      "     ------------------------------------ 162.6/162.6 MB 924.0 kB/s eta 0:00:00\n",
      "Collecting torchvision\n",
      "  Downloading torchvision-0.14.1-cp37-cp37m-win_amd64.whl (1.1 MB)\n",
      "     ---------------------------------------- 1.1/1.1 MB 3.1 MB/s eta 0:00:00\n",
      "Requirement already satisfied: typing-extensions in c:\\users\\tato\\anaconda3\\envs\\tensorflow\\lib\\site-packages (from torch) (4.4.0)\n",
      "Requirement already satisfied: numpy in c:\\users\\tato\\anaconda3\\envs\\tensorflow\\lib\\site-packages (from torchvision) (1.21.5)\n",
      "Requirement already satisfied: pillow!=8.3.*,>=5.3.0 in c:\\users\\tato\\anaconda3\\envs\\tensorflow\\lib\\site-packages (from torchvision) (9.3.0)\n",
      "Collecting requests\n",
      "  Downloading requests-2.28.2-py3-none-any.whl (62 kB)\n",
      "     -------------------------------------- 62.8/62.8 kB 674.1 kB/s eta 0:00:00\n",
      "Collecting urllib3<1.27,>=1.21.1\n",
      "  Downloading urllib3-1.26.14-py2.py3-none-any.whl (140 kB)\n",
      "     -------------------------------------- 140.6/140.6 kB 1.7 MB/s eta 0:00:00\n",
      "Collecting charset-normalizer<4,>=2\n",
      "  Downloading charset_normalizer-3.0.1-cp37-cp37m-win_amd64.whl (94 kB)\n",
      "     -------------------------------------- 94.0/94.0 kB 768.5 kB/s eta 0:00:00\n",
      "Requirement already satisfied: idna<4,>=2.5 in c:\\users\\tato\\anaconda3\\envs\\tensorflow\\lib\\site-packages (from requests->torchvision) (3.4)\n",
      "Collecting certifi>=2017.4.17\n",
      "  Downloading certifi-2022.12.7-py3-none-any.whl (155 kB)\n",
      "     ------------------------------------ 155.3/155.3 kB 488.3 kB/s eta 0:00:00\n",
      "Installing collected packages: charset-normalizer, urllib3, torch, certifi, requests, torchvision\n",
      "Successfully installed certifi-2022.12.7 charset-normalizer-3.0.1 requests-2.28.2 torch-1.13.1 torchvision-0.14.1 urllib3-1.26.14\n"
     ]
    }
   ],
   "source": [
    "!pip3 install torch torchvision"
   ]
  },
  {
   "cell_type": "code",
   "execution_count": 2,
   "id": "b66bdc7c",
   "metadata": {},
   "outputs": [],
   "source": [
    "import torch\n",
    "from IPython import display\n",
    "import numpy as np\n",
    "import random"
   ]
  },
  {
   "cell_type": "markdown",
   "id": "378b715b",
   "metadata": {},
   "source": [
    "Создайте случайный FloatTensor размера 3x4x5 <br>\n",
    "Выведите его форму (shape) <br>\n",
    "Приведите его к форме 6х10 <br>\n",
    "Создайте случайный IntTensor размера 10 <br>\n",
    "Умножьте созданный FloatTensor на созданный IntTensor поэлементно <br>\n",
    "Умножьте тензор матрично на себя, чтобы результат был размерности 6x6 Подсказка: .dot может не подойти <br>\n",
    "Посчитайте производную функции y = x**3 + z - 75t в точке (1, 0.5, 2)<br>\n",
    "Создайте единичный тензор размера 5x6 <br>\n",
    "Переведите его в формат numpy<br>"
   ]
  },
  {
   "cell_type": "code",
   "execution_count": 3,
   "id": "54200bbd",
   "metadata": {},
   "outputs": [
    {
     "data": {
      "text/plain": [
       "tensor([[[0.3233, 0.6543, 0.9759, 0.3927, 0.7545],\n",
       "         [0.2977, 0.9289, 0.9990, 0.7312, 0.6365],\n",
       "         [0.9737, 0.1083, 0.4678, 0.0795, 0.6540],\n",
       "         [0.8066, 0.0519, 0.3033, 0.0907, 0.3162]],\n",
       "\n",
       "        [[0.3815, 0.4620, 0.8404, 0.7142, 0.1037],\n",
       "         [0.6060, 0.8913, 0.3602, 0.4300, 0.0888],\n",
       "         [0.8434, 0.9039, 0.4299, 0.5145, 0.2847],\n",
       "         [0.8701, 0.4897, 0.5380, 0.0949, 0.2961]],\n",
       "\n",
       "        [[0.0559, 0.0340, 0.3767, 0.9185, 0.0797],\n",
       "         [0.1480, 0.9690, 0.2963, 0.2277, 0.2664],\n",
       "         [0.6873, 0.9700, 0.0521, 0.6368, 0.4838],\n",
       "         [0.6981, 0.2929, 0.6486, 0.3327, 0.5766]]])"
      ]
     },
     "execution_count": 3,
     "metadata": {},
     "output_type": "execute_result"
    }
   ],
   "source": [
    "# 1. Создайте случайный FloatTensor размера 3x4x5\n",
    "tensor = torch.rand(3, 4, 5)\n",
    "tensor"
   ]
  },
  {
   "cell_type": "code",
   "execution_count": 4,
   "id": "13fb109b",
   "metadata": {},
   "outputs": [
    {
     "data": {
      "text/plain": [
       "torch.Size([3, 4, 5])"
      ]
     },
     "execution_count": 4,
     "metadata": {},
     "output_type": "execute_result"
    }
   ],
   "source": [
    "# 2. Выведите его форму (shape)\n",
    "tensor.shape"
   ]
  },
  {
   "cell_type": "code",
   "execution_count": 5,
   "id": "2656b7ee",
   "metadata": {},
   "outputs": [
    {
     "data": {
      "text/plain": [
       "tensor([[0.3233, 0.6543, 0.9759, 0.3927, 0.7545, 0.2977, 0.9289, 0.9990, 0.7312,\n",
       "         0.6365],\n",
       "        [0.9737, 0.1083, 0.4678, 0.0795, 0.6540, 0.8066, 0.0519, 0.3033, 0.0907,\n",
       "         0.3162],\n",
       "        [0.3815, 0.4620, 0.8404, 0.7142, 0.1037, 0.6060, 0.8913, 0.3602, 0.4300,\n",
       "         0.0888],\n",
       "        [0.8434, 0.9039, 0.4299, 0.5145, 0.2847, 0.8701, 0.4897, 0.5380, 0.0949,\n",
       "         0.2961],\n",
       "        [0.0559, 0.0340, 0.3767, 0.9185, 0.0797, 0.1480, 0.9690, 0.2963, 0.2277,\n",
       "         0.2664],\n",
       "        [0.6873, 0.9700, 0.0521, 0.6368, 0.4838, 0.6981, 0.2929, 0.6486, 0.3327,\n",
       "         0.5766]])"
      ]
     },
     "execution_count": 5,
     "metadata": {},
     "output_type": "execute_result"
    }
   ],
   "source": [
    "# 3. Приведите его к форме 6х10\n",
    "tensor_reshape = tensor.reshape(6, 10)\n",
    "tensor_reshape"
   ]
  },
  {
   "cell_type": "code",
   "execution_count": 6,
   "id": "cdff4c77",
   "metadata": {},
   "outputs": [
    {
     "data": {
      "text/plain": [
       "tensor([0, 0, 0, 0, 0, 0, 0, 0, 0, 0], dtype=torch.int32)"
      ]
     },
     "execution_count": 6,
     "metadata": {},
     "output_type": "execute_result"
    }
   ],
   "source": [
    "# 4. Создайте случайный IntTensor размера 10\n",
    "int_tensor = torch.IntTensor(10)\n",
    "int_tensor"
   ]
  },
  {
   "cell_type": "code",
   "execution_count": 7,
   "id": "a440fdad",
   "metadata": {},
   "outputs": [
    {
     "data": {
      "text/plain": [
       "tensor([[0., 0., 0., 0., 0., 0., 0., 0., 0., 0.],\n",
       "        [0., 0., 0., 0., 0., 0., 0., 0., 0., 0.],\n",
       "        [0., 0., 0., 0., 0., 0., 0., 0., 0., 0.],\n",
       "        [0., 0., 0., 0., 0., 0., 0., 0., 0., 0.],\n",
       "        [0., 0., 0., 0., 0., 0., 0., 0., 0., 0.],\n",
       "        [0., 0., 0., 0., 0., 0., 0., 0., 0., 0.]])"
      ]
     },
     "execution_count": 7,
     "metadata": {},
     "output_type": "execute_result"
    }
   ],
   "source": [
    "# 5. Умножьте созданный FloatTensor на созданный IntTensor поэлементно\n",
    "mult_tensor = tensor_reshape * int_tensor\n",
    "mult_tensor"
   ]
  },
  {
   "cell_type": "code",
   "execution_count": 8,
   "id": "9795b444",
   "metadata": {},
   "outputs": [
    {
     "data": {
      "text/plain": [
       "tensor([[0., 0., 0., 0., 0., 0.],\n",
       "        [0., 0., 0., 0., 0., 0.],\n",
       "        [0., 0., 0., 0., 0., 0.],\n",
       "        [0., 0., 0., 0., 0., 0.],\n",
       "        [0., 0., 0., 0., 0., 0.],\n",
       "        [0., 0., 0., 0., 0., 0.]])"
      ]
     },
     "execution_count": 8,
     "metadata": {},
     "output_type": "execute_result"
    }
   ],
   "source": [
    "# 6. Умножьте тензор матрично на себя, чтобы результат был размерности 6x6\n",
    "# Подсказка: .dot может не подойти\n",
    "torch.mm(mult_tensor, torch.transpose(mult_tensor, 0 , 1))"
   ]
  },
  {
   "cell_type": "code",
   "execution_count": 9,
   "id": "f05bdc8b",
   "metadata": {},
   "outputs": [
    {
     "data": {
      "text/plain": [
       "(tensor([3., 3., 3.]), tensor([1., 1., 1.]), tensor([-75., -75., -75.]))"
      ]
     },
     "execution_count": 9,
     "metadata": {},
     "output_type": "execute_result"
    }
   ],
   "source": [
    "# 7. Посчитайте производную функции y = x**3 + z - 75t в точке (1, 0.5, 2)\n",
    "args = torch.tensor([1., 1., 1.])\n",
    "x = torch.tensor([1., 1., 1.], requires_grad=True)\n",
    "z = torch.tensor([0.5, 0.5, 0.5], requires_grad=True)\n",
    "t = torch.tensor([2., 2., 2.], requires_grad=True)\n",
    "\n",
    "y = x ** 3 + z - 75 * t\n",
    "\n",
    "y.backward(gradient=args)\n",
    "x.grad, z.grad, t.grad"
   ]
  },
  {
   "cell_type": "code",
   "execution_count": 10,
   "id": "e11623f9",
   "metadata": {},
   "outputs": [
    {
     "data": {
      "text/plain": [
       "tensor([[1., 1., 1., 1., 1., 1.],\n",
       "        [1., 1., 1., 1., 1., 1.],\n",
       "        [1., 1., 1., 1., 1., 1.],\n",
       "        [1., 1., 1., 1., 1., 1.],\n",
       "        [1., 1., 1., 1., 1., 1.]])"
      ]
     },
     "execution_count": 10,
     "metadata": {},
     "output_type": "execute_result"
    }
   ],
   "source": [
    "# 8. Создайте единичный тензор размера 5x6\n",
    "ones_tensor = torch.ones((5, 6))\n",
    "ones_tensor"
   ]
  },
  {
   "cell_type": "code",
   "execution_count": 11,
   "id": "834e4aba",
   "metadata": {},
   "outputs": [
    {
     "data": {
      "text/plain": [
       "array([[1., 1., 1., 1., 1., 1.],\n",
       "       [1., 1., 1., 1., 1., 1.],\n",
       "       [1., 1., 1., 1., 1., 1.],\n",
       "       [1., 1., 1., 1., 1., 1.],\n",
       "       [1., 1., 1., 1., 1., 1.]], dtype=float32)"
      ]
     },
     "execution_count": 11,
     "metadata": {},
     "output_type": "execute_result"
    }
   ],
   "source": [
    "# 9. Переведите его в формат numpy\n",
    "np_ones_tensor = ones_tensor.numpy()\n",
    "np_ones_tensor"
   ]
  }
 ],
 "metadata": {
  "kernelspec": {
   "display_name": "Python 3 (ipykernel)",
   "language": "python",
   "name": "python3"
  },
  "language_info": {
   "codemirror_mode": {
    "name": "ipython",
    "version": 3
   },
   "file_extension": ".py",
   "mimetype": "text/x-python",
   "name": "python",
   "nbconvert_exporter": "python",
   "pygments_lexer": "ipython3",
   "version": "3.7.12"
  }
 },
 "nbformat": 4,
 "nbformat_minor": 5
}
